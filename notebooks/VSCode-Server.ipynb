{
  "cells": [
    {
      "attachments": {},
      "cell_type": "markdown",
      "metadata": {
        "colab_type": "text",
        "id": "view-in-github"
      },
      "source": [
        "<a href=\"https://colab.research.google.com/github/Kabilan108/dnn/blob/dev/notebooks/VSCode-Server.ipynb\" target=\"_parent\"><img src=\"https://colab.research.google.com/assets/colab-badge.svg\" alt=\"Open In Colab\"/></a>"
      ]
    },
    {
      "cell_type": "code",
      "execution_count": null,
      "metadata": {
        "colab": {
          "base_uri": "https://localhost:8080/",
          "height": 620
        },
        "id": "LHscZE1aHhKA",
        "outputId": "3a5aaeda-0dcc-4f3a-fb8a-e7761ed836e6"
      },
      "outputs": [],
      "source": [
        "# install set-up packages\n",
        "!pip install --quiet --upgrade colab_ssh python-dotenv\n",
        "\n",
        "# install other packages\n",
        "!pip install --quiet datasets transformers rich kaggle\n",
        "\n",
        "# mount google drive\n",
        "from google.colab import drive\n",
        "drive.mount(\"/content/gdrive\")\n",
        "\n",
        "# import packages to set up server\n",
        "from colab_ssh import launch_ssh_cloudflared, init_git_cloudflared\n",
        "import dotenv\n",
        "import os\n",
        "\n",
        "# load environment variables\n",
        "dotenv.load_dotenv(os.path.join('/content/gdrive/MyDrive/vscode-ssh', '.env'))\n",
        "PASSWORD = os.getenv('SERVER_PASSWORD')\n",
        "PAT = os.getenv('GITHUB_ACCESS_TOKEN')\n",
        "\n",
        "# create kaggle.json from environment variable\n",
        "KAGGLE_USERNAME = os.getenv('KAGGLE_USERNAME')\n",
        "KAGGLE_KEY = os.getenv('KAGGLE_KEY')\n",
        "!mkdir /root/.kaggle\n",
        "with open('/root/.kaggle/kaggle.json', 'w') as f:\n",
        "    f.write('{\"username\":\"' + KAGGLE_USERNAME + '\",\"key\":\"' + KAGGLE_KEY + '\"}')\n",
        "\n",
        "# set github repo url\n",
        "GIT_REPO = \"https://github.com/Kabilan108/dnn.git\"\n",
        "\n",
        "# create ssh connection and load repo\n",
        "launch_ssh_cloudflared(PASSWORD)\n",
        "init_git_cloudflared(\n",
        "    repository_url=GIT_REPO,\n",
        "    personal_token=PAT,\n",
        "    branch=\"dev\",\n",
        "    email=\"tonykabilanokeke@gmail.com\",\n",
        "    username=\"Kabilan108\"\n",
        ")\n",
        "\n",
        "# install vscode extensions\n",
        "!code-insiders --install-extension ms-python.python\n",
        "!code-insiders --install-extension ms-toolsai.jupyter\n",
        "!code-insiders --install-extension github.copilot"
      ]
    }
  ],
  "metadata": {
    "colab": {
      "authorship_tag": "ABX9TyOBGO16nM+zrP3vUE0fzPdZ",
      "include_colab_link": true,
      "provenance": []
    },
    "kernelspec": {
      "display_name": "Python 3",
      "name": "python3"
    },
    "language_info": {
      "name": "python"
    }
  },
  "nbformat": 4,
  "nbformat_minor": 0
}
