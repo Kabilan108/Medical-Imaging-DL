{
 "cells": [
  {
   "cell_type": "code",
   "execution_count": null,
   "metadata": {},
   "outputs": [],
   "source": [
    "\"\"\"\n",
    "Colab Notebook Set Up\n",
    "\n",
    "Use this cell to upload your kaggle.json file as well as the `download_data.sh`\n",
    "and `preprocess.py` scripts.\n",
    "\"\"\"\n",
    "\n",
    "from google.colab import files\n",
    "import os\n",
    "\n",
    "# Upload files\n",
    "kaggle = files.upload()\n",
    "data_script = files.upload()\n",
    "preprocess_script = files.upload()\n",
    "config = files.upload()\n",
    "\n",
    "# Verify uploads\n",
    "for file in [\"kaggle.json\", \"download_data.sh\", \"preprocess.py\", \"oct.yaml\"]:\n",
    "    assert file in os.listdir(), f\"Make sure you upload the {file} file\"\n",
    "\n",
    "# Shell commands (files)\n",
    "!mkdir -p ~/.kaggle/ data/ models/ config/ scripts/ net/\n",
    "!mv kaggle.json ~/.kaggle/\n",
    "!mv download_data.sh preprocess.py scripts/\n",
    "!mv oct.yaml config/\n",
    "!chmod 600 ~/.kaggle/kaggle.json\n",
    "!chmod +x scripts/download_data.sh scripts/preprocess.py\n",
    "!sed -i -e 's/\\r$//' scripts/download_data.sh\n",
    "!pip install -q kaggle pretrainedmodels rich\n",
    "!touch net/__init__.py net/train.py net/utils.py\n",
    "\n",
    "# Run shell commands\n",
    "!scripts/download_data.sh"
   ]
  },
  {
   "cell_type": "code",
   "execution_count": null,
   "metadata": {},
   "outputs": [],
   "source": [
    "%load_ext tensorboard\n",
    "%load_ext autoreload\n",
    "%autoreload 2\n",
    "\n",
    "%tensorboard --logdir runs"
   ]
  },
  {
   "attachments": {},
   "cell_type": "markdown",
   "metadata": {},
   "source": [
    "## Finetuning InceptionV3 for Retinal OCT Images\n",
    "\n",
    "### Context\n",
    "\n",
    "- Retinal Optical Coherence Tomography (OCT) is an imaging technique used to\n",
    "  capture high-res cross sections of the retina\n",
    "- ~84, 495 OCT Images in total\n",
    "\n",
    "### Content\n",
    "\n",
    "- Images in JPEG format with 3 channels, i.e., RGB\n",
    "- 4 categories: CNV, DME, DRUSEN, NORMAL\n",
    "\n",
    "### This Notebook\n",
    "\n",
    "- Fine-tune InceptionV3 by training the last, linear layer on the new data\n",
    "- During the forward pass, the images will be passed through the full\n",
    "  network, but only the weights of the last layer will be updated based on\n",
    "  the loss"
   ]
  },
  {
   "cell_type": "code",
   "execution_count": null,
   "metadata": {},
   "outputs": [],
   "source": [
    "from torch.utils.tensorboard import SummaryWriter\n",
    "from torch.utils.data import DataLoader, Dataset\n",
    "from torchvision import datasets, transforms\n",
    "from torch import nn, optim\n",
    "import pretrainedmodels as models\n",
    "import torch\n",
    "\n",
    "from datetime import datetime\n",
    "from tqdm.auto import tqdm\n",
    "from rich import print\n",
    "from glob import glob\n",
    "\n",
    "import sys; sys.path.append(\".\")\n",
    "from net import train, utils\n",
    "\n",
    "import numpy as np\n",
    "import copy\n",
    "import yaml\n",
    "import os\n",
    "import re\n",
    "\n",
    "\n",
    "config = \"config/oct.yaml\"\n",
    "with open(config, 'r') as f:\n",
    "    config = yaml.safe_load(f)"
   ]
  },
  {
   "cell_type": "code",
   "execution_count": null,
   "metadata": {},
   "outputs": [],
   "source": [
    "# Define transforms\n",
    "transform = transforms.Compose([\n",
    "    transforms.Resize((config[\"input-height\"], config[\"input-width\"])),\n",
    "    transforms.ToTensor(),\n",
    "    transforms.Normalize(config[\"input-mean\"], config[\"input-std\"]),\n",
    "])\n",
    "\n",
    "# Define datasets\n",
    "data = {\n",
    "    \"train\": datasets.ImageFolder(config[\"train-dir\"], transform),\n",
    "    \"test\": datasets.ImageFolder(config[\"test-dir\"], transform),\n",
    "    \"val\": datasets.ImageFolder(config[\"val-dir\"], transform),\n",
    "}\n",
    "\n",
    "# Define dataloaders\n",
    "dataloaders = {\n",
    "    \"train\": DataLoader(data[\"train\"], batch_size=config[\"batch-size\"], shuffle=True),\n",
    "    \"test\": DataLoader(data[\"test\"], batch_size=config[\"batch-size\"], shuffle=True),\n",
    "    \"val\": DataLoader(data[\"val\"], batch_size=config[\"batch-size\"], shuffle=False),\n",
    "}"
   ]
  },
  {
   "cell_type": "code",
   "execution_count": null,
   "metadata": {},
   "outputs": [],
   "source": [
    "class FineTuned(nn.Module):\n",
    "    \"\"\"Fine-tuned output layer for InceptionV3\"\"\"\n",
    "\n",
    "    def __init__(self, config):\n",
    "        super(FineTuned, self).__init__()\n",
    "\n",
    "        self.model = models.__dict__[config[\"model-name\"]](num_classes=1000, pretrained=\"imagenet\")\n",
    "        for param in self.model.parameters():\n",
    "            param.requires_grad = False\n",
    "\n",
    "        self.model.last_linear = nn.Linear(self.model.last_linear.in_features, config[\"num-classes\"])\n",
    "\n",
    "    def forward(self, x):\n",
    "        x = self.model(x)\n",
    "        return x\n",
    "    \n",
    "model = FineTuned(config)\n",
    "model = model.to(train.device())\n",
    "\n",
    "trainable = filter(lambda p: p.requires_grad, model.parameters())\n",
    "\n",
    "criterion = nn.CrossEntropyLoss()\n",
    "optimizer = optim.Adam(trainable, lr=config[\"lr\"])\n",
    "# optimizer = optim.SGD(trainable, lr=config[\"lr\"], momentum=config[\"momentum\"])"
   ]
  },
  {
   "cell_type": "code",
   "execution_count": null,
   "metadata": {},
   "outputs": [],
   "source": [
    "# Initialize training and logging\n",
    "timestamp = datetime.now().strftime(\"%m%d_%H%M%S\")\n",
    "writer = SummaryWriter(f\"logs/inception/oct-{timestamp}\")\n",
    "EPOCH = 0"
   ]
  },
  {
   "cell_type": "code",
   "execution_count": null,
   "metadata": {},
   "outputs": [],
   "source": [
    "num_epochs = 10\n",
    "EPOCH += num_epochs\n",
    "\n",
    "model, history = train.train_model(\n",
    "    model, dataloaders, criterion, optimizer, num_epochs, EPOCH, writer\n",
    ")"
   ]
  }
 ],
 "metadata": {
  "kernelspec": {
   "display_name": "torch",
   "language": "python",
   "name": "python3"
  },
  "language_info": {
   "codemirror_mode": {
    "name": "ipython",
    "version": 3
   },
   "file_extension": ".py",
   "mimetype": "text/x-python",
   "name": "python",
   "nbconvert_exporter": "python",
   "pygments_lexer": "ipython3",
   "version": "3.10.11"
  },
  "orig_nbformat": 4
 },
 "nbformat": 4,
 "nbformat_minor": 2
}
